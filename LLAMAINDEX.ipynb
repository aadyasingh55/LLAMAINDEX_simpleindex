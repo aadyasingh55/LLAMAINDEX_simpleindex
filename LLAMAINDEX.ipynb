{
  "nbformat": 4,
  "nbformat_minor": 0,
  "metadata": {
    "colab": {
      "provenance": [],
      "authorship_tag": "ABX9TyNzhiXVT+iwaaVWh56qO5X/",
      "include_colab_link": true
    },
    "kernelspec": {
      "name": "python3",
      "display_name": "Python 3"
    },
    "language_info": {
      "name": "python"
    }
  },
  "cells": [
    {
      "cell_type": "markdown",
      "metadata": {
        "id": "view-in-github",
        "colab_type": "text"
      },
      "source": [
        "<a href=\"https://colab.research.google.com/github/aadyasingh55/LLAMAINDEX_simpleindex/blob/main/LLAMAINDEX.ipynb\" target=\"_parent\"><img src=\"https://colab.research.google.com/assets/colab-badge.svg\" alt=\"Open In Colab\"/></a>"
      ]
    },
    {
      "cell_type": "code",
      "execution_count": null,
      "metadata": {
        "colab": {
          "base_uri": "https://localhost:8080/"
        },
        "id": "lbF7Z7A-Y_bx",
        "outputId": "b8e99df3-ba8b-405c-8c48-156305cbef05"
      },
      "outputs": [
        {
          "output_type": "stream",
          "name": "stdout",
          "text": [
            "Search Results:\n",
            "1. Document: The large AMOLED display delivers vibrant visuals, and the 5G connectivity offers blazing-fast internet speeds.\n",
            "   Similarity Score: 0.9988\n",
            "2. Document: With a 108MP camera, it captures stunning photos and videos in any lighting condition.\n",
            "   Similarity Score: 0.9960\n",
            "3. Document: This cutting-edge device is designed to redefine your mobile experience.\n",
            "   Similarity Score: 0.9901\n",
            "4. Document: The AI-powered processor ensures smooth multitasking and gaming performance. \n",
            "   Similarity Score: 0.9855\n",
            "5. Document: Experience the future of mobile technology with the XYZ Model X.\n",
            "   Similarity Score: 0.9844\n",
            "6. Document: Introducing our flagship smartphone, the XYZ Model X.\n",
            "   Similarity Score: 0.9780\n"
          ]
        }
      ],
      "source": [
        "import torch\n",
        "from transformers import GPT2Tokenizer, GPT2Model\n",
        "from sklearn.metrics.pairwise import cosine_similarity\n",
        "\n",
        "\n",
        "model_name = \"gpt2\"\n",
        "tokenizer = GPT2Tokenizer.from_pretrained(model_name)\n",
        "tokenizer.pad_token = \"[PAD]\"\n",
        "model = GPT2Model.from_pretrained(model_name)\n",
        "\n",
        "documents = [\n",
        "    \"Introducing our flagship smartphone, the XYZ Model X.\",\n",
        "    \"This cutting-edge device is designed to redefine your mobile experience.\",\n",
        "    \"With a 108MP camera, it captures stunning photos and videos in any lighting condition.\",\n",
        "    \"The AI-powered processor ensures smooth multitasking and gaming performance. \",\n",
        "    \"The large AMOLED display delivers vibrant visuals, and the 5G connectivity offers blazing-fast internet speeds.\",\n",
        "    \"Experience the future of mobile technology with the XYZ Model X.\",\n",
        "]\n",
        "\n",
        "\n",
        "query = \"Could you provide detailed specifications and user reviews for the XYZ Model X smartphone, including its camera features and performance?\"\n",
        "\n",
        "\n",
        "def create_embeddings(texts):\n",
        "    inputs = tokenizer(texts, return_tensors=\"pt\", padding=True, truncation=True)\n",
        "    with torch.no_grad():\n",
        "        outputs = model(**inputs)\n",
        "    embeddings = outputs.last_hidden_state.mean(dim=1).numpy()\n",
        "    return embeddings\n",
        "\n",
        "document_embeddings = create_embeddings(documents)\n",
        "query_embedding = create_embeddings(query)\n",
        "\n",
        "document_embeddings = document_embeddings.reshape(len(documents), -1)\n",
        "query_embedding = query_embedding.reshape(1, -1)\n",
        "\n",
        "similarities = cosine_similarity(query_embedding, document_embeddings)[0]\n",
        "\n",
        "results = [(document, score) for document, score in zip(documents, similarities)]\n",
        "results.sort(key=lambda x: x[1], reverse=True)\n",
        "\n",
        "print(\"Search Results:\")\n",
        "for i, (result_doc, score) in enumerate(results, start=1):\n",
        "    print(f\"{i}. Document: {result_doc}\\n   Similarity Score: {score:.4f}\")\n"
      ]
    }
  ]
}